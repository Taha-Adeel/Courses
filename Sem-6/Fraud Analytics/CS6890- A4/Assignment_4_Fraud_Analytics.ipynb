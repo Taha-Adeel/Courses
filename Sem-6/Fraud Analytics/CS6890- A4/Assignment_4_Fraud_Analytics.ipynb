{
  "cells": [
    {
      "cell_type": "markdown",
      "metadata": {
        "id": "BDuI7AYnENg1"
      },
      "source": [
        "# Team\n",
        "CS20BTECH11004 Aman Panwar  \\\n",
        "AI20BTECH11003  Amulya Tallamraju  \\\n",
        "ES20BTECH11035 Pranav K Nayak  \\\n",
        "CS20BTECH11052 Taha Adeel Mohammed \\\n",
        "CS20BTECH11056 Aditya Naga Venkata Rama Vikhyath Sai Kothamasu "
      ]
    },
    {
      "cell_type": "markdown",
      "metadata": {
        "id": "3JipZTGCYnr6"
      },
      "source": [
        "# Import Libraries"
      ]
    },
    {
      "cell_type": "code",
      "execution_count": null,
      "metadata": {
        "id": "iqCIcsRyNf5d"
      },
      "outputs": [],
      "source": [
        "# Modules to be used\n",
        "import torch\n",
        "import random \n",
        "import numpy as np \n",
        "import pandas as pd \n",
        "import torch.nn as nn\n",
        "import torch.optim as optim\n",
        "import torch.utils.data as dset\n",
        "import matplotlib.pyplot as plt \n",
        "from sklearn.model_selection import train_test_split"
      ]
    },
    {
      "cell_type": "markdown",
      "metadata": {
        "id": "niSwx-rmMcbI"
      },
      "source": [
        "# Loss function\n",
        "The loss function takes in data, labels, cost parameters and flag. If flag is set to True, then it return cost dependent loss else it return cost independent loss"
      ]
    },
    {
      "cell_type": "code",
      "execution_count": null,
      "metadata": {
        "id": "5P_DstoYo2Ga"
      },
      "outputs": [],
      "source": [
        "def costsensitiveloss(h, y,y_pred, C_TP, C_TN, C_FP, C_FN,flag):\n",
        "    y = y.float()\n",
        "\n",
        "    if flag==True:\n",
        "      los = (torch.dot(y * C_TP , h)+torch.dot(y * C_FN , 1-h) + torch.dot((1 - y) * C_TN, 1-h) + torch.dot((1 - y) * C_FP, h))/len(y)\n",
        "    else:\n",
        "      loss = nn.BCELoss()\n",
        "      los=loss(y_pred,y)\n",
        "    return los\n"
      ]
    },
    {
      "cell_type": "markdown",
      "metadata": {
        "id": "VK75wLYWMx9F"
      },
      "source": [
        "# Logisitc Regression Model\n",
        "The model takes in data, number of epochs, shape parameters, cost and flag as input. If flag is set to True, it performs cost sensitive logistic regression, else it performs vanilla Logistic regression."
      ]
    },
    {
      "cell_type": "code",
      "execution_count": null,
      "metadata": {
        "id": "Rx-L9eicrDMJ"
      },
      "outputs": [],
      "source": [
        "# Training, validating and fitting model\n",
        "def fitModel_costsensitive(train_loader,epochs,shape_data,shape_label,costs,flag):\n",
        "  # Define Logistic Regressor\n",
        "  net = nn.Sequential( nn.Linear(shape_data,shape_label), nn.Sigmoid())\n",
        "  # optimizer to optimize weights\n",
        "  optimizer = optim.Adam(net.parameters())\n",
        "  tpc,tnc,fpc=costs\n",
        "  train_loss_cost,train_loss,train_acc=[],[],[]\n",
        "  for epoch in range(0,epochs):\n",
        "    net.train()\n",
        "    losses_cost,losses,correct,total = [],[], 0, 0\n",
        "    for i, (x, y,fn ) in enumerate(train_loader):\n",
        "      optimizer.zero_grad()\n",
        "      h = net(x).squeeze(1) # calculate current model prediction\n",
        "      pred = (h-0.5>0).to(torch.int64)\n",
        "      correct = correct + (pred==y).sum().item()\n",
        "      \n",
        "      loss_cost = costsensitiveloss(h,y,torch.squeeze(net(x)),tpc,tnc,fpc,fn,True)\n",
        "      loss = costsensitiveloss(h,y,torch.squeeze(net(x)),tpc,tnc,fpc,fn,False)#cost less\n",
        "      total = total + h.size(0)\n",
        "      losses_cost.append(loss_cost.data.item())\n",
        "      losses.append(loss.data.item())#cost less\n",
        "      #if using using cost seitive model\n",
        "      if flag==True:\n",
        "        loss_cost.backward() # calculate gradients\n",
        "      else:\n",
        "        loss.backward()\n",
        "      optimizer.step()\n",
        "    acc, meanLosses_cost,meanLosses = 100*correct/total, np.mean(losses_cost),np.mean(losses)\n",
        "    train_acc.append(acc), train_loss_cost.append(meanLosses_cost),train_loss.append(meanLosses)\n",
        "    if epoch%10==0:\n",
        "      print('(Epoch, Train Loss,Cost sensitive loss, Train accuracy) : ({}, {:3f}, {:3f},{:3f})'.format(epoch, train_loss[-1],train_loss_cost[-1], train_acc[-1]))\n",
        "  return net,train_loss,train_acc,train_loss_cost"
      ]
    },
    {
      "cell_type": "markdown",
      "metadata": {
        "id": "UIXhv9gjNJSm"
      },
      "source": [
        "# Load dataset\n",
        "Convert appropriate columns into tensor values"
      ]
    },
    {
      "cell_type": "code",
      "execution_count": null,
      "metadata": {
        "id": "ZAe3DIsZRc9b"
      },
      "outputs": [],
      "source": [
        "# Load data\n",
        "dataframe = pd.read_csv('costsensitiveregression.csv')\n",
        "# converting data to Pytorch Tensors\n",
        "df=dataframe.drop([\"FNC\"], axis = 1)\n",
        "data = df.iloc[:,:-1]\n",
        "data = torch.FloatTensor(data.to_numpy())\n",
        "fnc=dataframe.iloc[:,-1]\n",
        "fnc = torch.FloatTensor(fnc.to_numpy())\n",
        "targets  = df.iloc[:,-1]\n",
        "targets = torch.LongTensor(targets.to_numpy())"
      ]
    },
    {
      "cell_type": "markdown",
      "metadata": {
        "id": "qYteTsCQC_Y_"
      },
      "source": [
        "# Dataset description"
      ]
    },
    {
      "cell_type": "code",
      "execution_count": null,
      "metadata": {
        "id": "yCIZHp4wDB0Z",
        "outputId": "810fb9b9-c148-4ed1-836b-3180b4764153"
      },
      "outputs": [
        {
          "data": {
            "text/html": [
              "<div>\n",
              "<style scoped>\n",
              "    .dataframe tbody tr th:only-of-type {\n",
              "        vertical-align: middle;\n",
              "    }\n",
              "\n",
              "    .dataframe tbody tr th {\n",
              "        vertical-align: top;\n",
              "    }\n",
              "\n",
              "    .dataframe thead th {\n",
              "        text-align: right;\n",
              "    }\n",
              "</style>\n",
              "<table border=\"1\" class=\"dataframe\">\n",
              "  <thead>\n",
              "    <tr style=\"text-align: right;\">\n",
              "      <th></th>\n",
              "      <th>NotCount</th>\n",
              "      <th>YesCount</th>\n",
              "      <th>ATPM</th>\n",
              "      <th>PFD</th>\n",
              "      <th>PFG</th>\n",
              "      <th>SFD</th>\n",
              "      <th>SFG</th>\n",
              "      <th>WP</th>\n",
              "      <th>WS</th>\n",
              "      <th>AH</th>\n",
              "      <th>AN</th>\n",
              "      <th>Status</th>\n",
              "      <th>FNC</th>\n",
              "    </tr>\n",
              "  </thead>\n",
              "  <tbody>\n",
              "    <tr>\n",
              "      <th>count</th>\n",
              "      <td>147636.000000</td>\n",
              "      <td>147636.000000</td>\n",
              "      <td>147636.000000</td>\n",
              "      <td>147636.000000</td>\n",
              "      <td>147636.000000</td>\n",
              "      <td>147636.000000</td>\n",
              "      <td>147636.000000</td>\n",
              "      <td>147636.000000</td>\n",
              "      <td>147636.000000</td>\n",
              "      <td>147636.000000</td>\n",
              "      <td>147636.000000</td>\n",
              "      <td>147636.000000</td>\n",
              "      <td>1.476360e+05</td>\n",
              "    </tr>\n",
              "    <tr>\n",
              "      <th>mean</th>\n",
              "      <td>7.722107</td>\n",
              "      <td>15.220908</td>\n",
              "      <td>0.253245</td>\n",
              "      <td>0.027062</td>\n",
              "      <td>0.050789</td>\n",
              "      <td>0.021648</td>\n",
              "      <td>0.071709</td>\n",
              "      <td>0.271927</td>\n",
              "      <td>0.493587</td>\n",
              "      <td>0.045045</td>\n",
              "      <td>0.013474</td>\n",
              "      <td>0.298586</td>\n",
              "      <td>5.334049e+02</td>\n",
              "    </tr>\n",
              "    <tr>\n",
              "      <th>std</th>\n",
              "      <td>7.574278</td>\n",
              "      <td>7.596921</td>\n",
              "      <td>0.366280</td>\n",
              "      <td>0.335509</td>\n",
              "      <td>0.373370</td>\n",
              "      <td>0.298285</td>\n",
              "      <td>1.135755</td>\n",
              "      <td>2.432425</td>\n",
              "      <td>0.763389</td>\n",
              "      <td>0.182274</td>\n",
              "      <td>0.100973</td>\n",
              "      <td>0.457639</td>\n",
              "      <td>8.774011e+03</td>\n",
              "    </tr>\n",
              "    <tr>\n",
              "      <th>min</th>\n",
              "      <td>0.000000</td>\n",
              "      <td>0.000000</td>\n",
              "      <td>0.000000</td>\n",
              "      <td>0.000000</td>\n",
              "      <td>0.000000</td>\n",
              "      <td>0.000000</td>\n",
              "      <td>0.000000</td>\n",
              "      <td>0.000000</td>\n",
              "      <td>0.000000</td>\n",
              "      <td>0.000000</td>\n",
              "      <td>0.000000</td>\n",
              "      <td>0.000000</td>\n",
              "      <td>0.000000e+00</td>\n",
              "    </tr>\n",
              "    <tr>\n",
              "      <th>25%</th>\n",
              "      <td>2.000000</td>\n",
              "      <td>10.000000</td>\n",
              "      <td>0.001084</td>\n",
              "      <td>0.000000</td>\n",
              "      <td>0.000000</td>\n",
              "      <td>0.000000</td>\n",
              "      <td>0.000000</td>\n",
              "      <td>0.000000</td>\n",
              "      <td>0.000000</td>\n",
              "      <td>0.000000</td>\n",
              "      <td>0.000000</td>\n",
              "      <td>0.000000</td>\n",
              "      <td>2.820820e-01</td>\n",
              "    </tr>\n",
              "    <tr>\n",
              "      <th>50%</th>\n",
              "      <td>4.000000</td>\n",
              "      <td>19.000000</td>\n",
              "      <td>0.033354</td>\n",
              "      <td>0.000000</td>\n",
              "      <td>0.000000</td>\n",
              "      <td>0.000000</td>\n",
              "      <td>0.000000</td>\n",
              "      <td>0.000000</td>\n",
              "      <td>0.097875</td>\n",
              "      <td>0.000000</td>\n",
              "      <td>0.000000</td>\n",
              "      <td>0.000000</td>\n",
              "      <td>1.183562e+01</td>\n",
              "    </tr>\n",
              "    <tr>\n",
              "      <th>75%</th>\n",
              "      <td>13.000000</td>\n",
              "      <td>21.000000</td>\n",
              "      <td>0.394372</td>\n",
              "      <td>0.000000</td>\n",
              "      <td>0.000000</td>\n",
              "      <td>0.000000</td>\n",
              "      <td>0.000000</td>\n",
              "      <td>0.061840</td>\n",
              "      <td>0.880929</td>\n",
              "      <td>0.000000</td>\n",
              "      <td>0.000000</td>\n",
              "      <td>1.000000</td>\n",
              "      <td>1.069840e+02</td>\n",
              "    </tr>\n",
              "    <tr>\n",
              "      <th>max</th>\n",
              "      <td>23.000000</td>\n",
              "      <td>22.000000</td>\n",
              "      <td>1.000000</td>\n",
              "      <td>79.837480</td>\n",
              "      <td>51.944780</td>\n",
              "      <td>61.556900</td>\n",
              "      <td>209.021870</td>\n",
              "      <td>399.606420</td>\n",
              "      <td>5.000000</td>\n",
              "      <td>1.000000</td>\n",
              "      <td>1.000000</td>\n",
              "      <td>1.000000</td>\n",
              "      <td>1.703186e+06</td>\n",
              "    </tr>\n",
              "  </tbody>\n",
              "</table>\n",
              "</div>"
            ],
            "text/plain": [
              "            NotCount       YesCount           ATPM            PFD  \\\n",
              "count  147636.000000  147636.000000  147636.000000  147636.000000   \n",
              "mean        7.722107      15.220908       0.253245       0.027062   \n",
              "std         7.574278       7.596921       0.366280       0.335509   \n",
              "min         0.000000       0.000000       0.000000       0.000000   \n",
              "25%         2.000000      10.000000       0.001084       0.000000   \n",
              "50%         4.000000      19.000000       0.033354       0.000000   \n",
              "75%        13.000000      21.000000       0.394372       0.000000   \n",
              "max        23.000000      22.000000       1.000000      79.837480   \n",
              "\n",
              "                 PFG            SFD            SFG             WP  \\\n",
              "count  147636.000000  147636.000000  147636.000000  147636.000000   \n",
              "mean        0.050789       0.021648       0.071709       0.271927   \n",
              "std         0.373370       0.298285       1.135755       2.432425   \n",
              "min         0.000000       0.000000       0.000000       0.000000   \n",
              "25%         0.000000       0.000000       0.000000       0.000000   \n",
              "50%         0.000000       0.000000       0.000000       0.000000   \n",
              "75%         0.000000       0.000000       0.000000       0.061840   \n",
              "max        51.944780      61.556900     209.021870     399.606420   \n",
              "\n",
              "                  WS             AH             AN         Status  \\\n",
              "count  147636.000000  147636.000000  147636.000000  147636.000000   \n",
              "mean        0.493587       0.045045       0.013474       0.298586   \n",
              "std         0.763389       0.182274       0.100973       0.457639   \n",
              "min         0.000000       0.000000       0.000000       0.000000   \n",
              "25%         0.000000       0.000000       0.000000       0.000000   \n",
              "50%         0.097875       0.000000       0.000000       0.000000   \n",
              "75%         0.880929       0.000000       0.000000       1.000000   \n",
              "max         5.000000       1.000000       1.000000       1.000000   \n",
              "\n",
              "                FNC  \n",
              "count  1.476360e+05  \n",
              "mean   5.334049e+02  \n",
              "std    8.774011e+03  \n",
              "min    0.000000e+00  \n",
              "25%    2.820820e-01  \n",
              "50%    1.183562e+01  \n",
              "75%    1.069840e+02  \n",
              "max    1.703186e+06  "
            ]
          },
          "execution_count": 5,
          "metadata": {},
          "output_type": "execute_result"
        }
      ],
      "source": [
        "dataframe.describe()"
      ]
    },
    {
      "cell_type": "markdown",
      "metadata": {
        "id": "KMyuBFTcNO7A"
      },
      "source": [
        "# Create Training and test datasets"
      ]
    },
    {
      "cell_type": "code",
      "execution_count": null,
      "metadata": {
        "id": "F5akM6bQRdyl"
      },
      "outputs": [],
      "source": [
        "# Split into train and test data\n",
        "dataset = dset.TensorDataset(data, targets,fnc)\n",
        "train_len=int(80/100*len(dataset))\n",
        "test_len=len(dataset)-train_len\n",
        "split_ratio = [train_len,test_len]\n",
        "(train_set, test_set) = dset.random_split(dataset, split_ratio)\n",
        "train_loader = dset.DataLoader(train_set, batch_size=1024, shuffle=True, sampler=None)\n",
        "test_loader = dset.DataLoader(test_set, batch_size=1024, shuffle=False, sampler=None)"
      ]
    },
    {
      "cell_type": "markdown",
      "metadata": {
        "id": "13wMGG_LNZQk"
      },
      "source": [
        "# Cost Sensitive Logistic regression"
      ]
    },
    {
      "cell_type": "code",
      "execution_count": null,
      "metadata": {
        "colab": {
          "base_uri": "https://localhost:8080/"
        },
        "id": "lCvxtgVmR0aW",
        "outputId": "18a2daa2-41e0-4712-f176-e29596517714"
      },
      "outputs": [
        {
          "name": "stdout",
          "output_type": "stream",
          "text": [
            "(Epoch, Train Loss,Cost sensitive loss, Train accuracy) : (0, 1.684823, 5.478839,29.958174)\n",
            "(Epoch, Train Loss,Cost sensitive loss, Train accuracy) : (10, 3.370238, 4.068192,29.804078)\n",
            "(Epoch, Train Loss,Cost sensitive loss, Train accuracy) : (20, 4.016640, 4.021208,29.793917)\n",
            "(Epoch, Train Loss,Cost sensitive loss, Train accuracy) : (30, 4.432097, 4.008923,29.793917)\n",
            "(Epoch, Train Loss,Cost sensitive loss, Train accuracy) : (40, 4.784490, 4.003897,29.793917)\n",
            "(Epoch, Train Loss,Cost sensitive loss, Train accuracy) : (50, 5.108505, 4.001620,29.793917)\n",
            "(Epoch, Train Loss,Cost sensitive loss, Train accuracy) : (60, 5.383723, 4.000382,29.793917)\n",
            "(Epoch, Train Loss,Cost sensitive loss, Train accuracy) : (70, 5.630567, 3.999397,29.793917)\n",
            "(Epoch, Train Loss,Cost sensitive loss, Train accuracy) : (80, 5.248516, 3.992958,29.793917)\n",
            "(Epoch, Train Loss,Cost sensitive loss, Train accuracy) : (90, 3.276803, 3.473343,54.745657)\n",
            "(Epoch, Train Loss,Cost sensitive loss, Train accuracy) : (100, 4.181396, 3.279650,59.791885)\n",
            "(Epoch, Train Loss,Cost sensitive loss, Train accuracy) : (110, 5.093243, 3.141607,60.923900)\n",
            "(Epoch, Train Loss,Cost sensitive loss, Train accuracy) : (120, 5.757514, 3.071567,65.416399)\n",
            "(Epoch, Train Loss,Cost sensitive loss, Train accuracy) : (130, 6.476128, 2.973001,66.114912)\n",
            "(Epoch, Train Loss,Cost sensitive loss, Train accuracy) : (140, 7.065844, 2.902980,67.037796)\n",
            "(Epoch, Train Loss,Cost sensitive loss, Train accuracy) : (150, 7.828622, 2.849342,67.331595)\n",
            "(Epoch, Train Loss,Cost sensitive loss, Train accuracy) : (160, 8.030894, 2.811074,68.058049)\n",
            "(Epoch, Train Loss,Cost sensitive loss, Train accuracy) : (170, 8.447580, 2.774757,68.203678)\n",
            "(Epoch, Train Loss,Cost sensitive loss, Train accuracy) : (180, 8.917833, 2.742855,68.559285)\n",
            "(Epoch, Train Loss,Cost sensitive loss, Train accuracy) : (190, 9.181144, 2.716177,68.517797)\n",
            "(Epoch, Train Loss,Cost sensitive loss, Train accuracy) : (200, 9.300679, 2.695554,69.157043)\n",
            "(Epoch, Train Loss,Cost sensitive loss, Train accuracy) : (210, 9.527401, 2.674556,69.235784)\n",
            "(Epoch, Train Loss,Cost sensitive loss, Train accuracy) : (220, 9.895312, 2.653493,69.309446)\n",
            "(Epoch, Train Loss,Cost sensitive loss, Train accuracy) : (230, 10.172007, 2.640425,69.118095)\n",
            "(Epoch, Train Loss,Cost sensitive loss, Train accuracy) : (240, 10.176758, 2.624415,70.285671)\n",
            "(Epoch, Train Loss,Cost sensitive loss, Train accuracy) : (250, 10.250025, 2.607584,70.565076)\n",
            "(Epoch, Train Loss,Cost sensitive loss, Train accuracy) : (260, 10.293486, 2.596267,71.004504)\n",
            "(Epoch, Train Loss,Cost sensitive loss, Train accuracy) : (270, 10.294262, 2.585867,71.411759)\n",
            "(Epoch, Train Loss,Cost sensitive loss, Train accuracy) : (280, 10.419733, 2.575730,71.112033)\n",
            "(Epoch, Train Loss,Cost sensitive loss, Train accuracy) : (290, 10.468223, 2.570634,71.357571)\n",
            "(Epoch, Train Loss,Cost sensitive loss, Train accuracy) : (300, 10.444179, 2.561493,71.838487)\n",
            "(Epoch, Train Loss,Cost sensitive loss, Train accuracy) : (310, 10.552364, 2.555365,71.674230)\n",
            "(Epoch, Train Loss,Cost sensitive loss, Train accuracy) : (320, 10.616707, 2.548518,71.767365)\n",
            "(Epoch, Train Loss,Cost sensitive loss, Train accuracy) : (330, 10.672939, 2.557345,71.736038)\n",
            "(Epoch, Train Loss,Cost sensitive loss, Train accuracy) : (340, 10.791094, 2.538269,71.674230)\n",
            "(Epoch, Train Loss,Cost sensitive loss, Train accuracy) : (350, 10.853500, 2.537160,71.780912)\n",
            "(Epoch, Train Loss,Cost sensitive loss, Train accuracy) : (360, 10.853504, 2.531085,72.293155)\n",
            "(Epoch, Train Loss,Cost sensitive loss, Train accuracy) : (370, 11.070553, 2.525471,71.854574)\n",
            "(Epoch, Train Loss,Cost sensitive loss, Train accuracy) : (380, 11.147177, 2.528604,71.909608)\n",
            "(Epoch, Train Loss,Cost sensitive loss, Train accuracy) : (390, 11.231716, 2.518550,71.968876)\n",
            "(Epoch, Train Loss,Cost sensitive loss, Train accuracy) : (400, 11.269191, 2.518657,72.355810)\n",
            "(Epoch, Train Loss,Cost sensitive loss, Train accuracy) : (410, 11.675064, 2.513002,72.205100)\n",
            "(Epoch, Train Loss,Cost sensitive loss, Train accuracy) : (420, 11.740506, 2.511652,71.991736)\n",
            "(Epoch, Train Loss,Cost sensitive loss, Train accuracy) : (430, 11.756638, 2.510415,72.256748)\n",
            "(Epoch, Train Loss,Cost sensitive loss, Train accuracy) : (440, 11.804241, 2.511315,72.209334)\n",
            "(Epoch, Train Loss,Cost sensitive loss, Train accuracy) : (450, 11.835155, 2.505251,72.185627)\n",
            "(Epoch, Train Loss,Cost sensitive loss, Train accuracy) : (460, 11.861462, 2.507182,72.307549)\n",
            "(Epoch, Train Loss,Cost sensitive loss, Train accuracy) : (470, 11.886778, 2.499320,72.481119)\n",
            "(Epoch, Train Loss,Cost sensitive loss, Train accuracy) : (480, 11.957172, 2.498736,72.294849)\n",
            "(Epoch, Train Loss,Cost sensitive loss, Train accuracy) : (490, 12.009059, 2.495928,72.388831)\n",
            "(Epoch, Train Loss,Cost sensitive loss, Train accuracy) : (500, 12.100939, 2.494756,72.325329)\n",
            "(Epoch, Train Loss,Cost sensitive loss, Train accuracy) : (510, 12.120467, 2.491822,72.349036)\n",
            "(Epoch, Train Loss,Cost sensitive loss, Train accuracy) : (520, 12.147428, 2.508270,72.481119)\n",
            "(Epoch, Train Loss,Cost sensitive loss, Train accuracy) : (530, 12.249524, 2.489168,72.302469)\n",
            "(Epoch, Train Loss,Cost sensitive loss, Train accuracy) : (540, 12.319161, 2.489053,72.188167)\n",
            "(Epoch, Train Loss,Cost sensitive loss, Train accuracy) : (550, 12.352571, 2.486366,72.158533)\n",
            "(Epoch, Train Loss,Cost sensitive loss, Train accuracy) : (560, 12.406964, 2.484116,72.238968)\n",
            "(Epoch, Train Loss,Cost sensitive loss, Train accuracy) : (570, 12.354453, 2.484711,72.611508)\n",
            "(Epoch, Train Loss,Cost sensitive loss, Train accuracy) : (580, 12.534818, 2.484268,72.127206)\n",
            "(Epoch, Train Loss,Cost sensitive loss, Train accuracy) : (590, 12.556443, 2.480455,72.252515)\n",
            "(Epoch, Train Loss,Cost sensitive loss, Train accuracy) : (600, 12.589493, 2.478639,72.258441)\n",
            "(Epoch, Train Loss,Cost sensitive loss, Train accuracy) : (610, 12.678775, 2.480258,72.225421)\n",
            "(Epoch, Train Loss,Cost sensitive loss, Train accuracy) : (620, 12.718494, 2.475804,72.285535)\n",
            "(Epoch, Train Loss,Cost sensitive loss, Train accuracy) : (630, 12.835910, 2.474685,72.279608)\n",
            "(Epoch, Train Loss,Cost sensitive loss, Train accuracy) : (640, 12.843635, 2.474355,72.363430)\n",
            "(Epoch, Train Loss,Cost sensitive loss, Train accuracy) : (650, 13.019641, 2.476066,72.381210)\n",
            "(Epoch, Train Loss,Cost sensitive loss, Train accuracy) : (660, 13.251473, 2.471133,72.345650)\n",
            "(Epoch, Train Loss,Cost sensitive loss, Train accuracy) : (670, 13.289502, 2.471149,72.404071)\n",
            "(Epoch, Train Loss,Cost sensitive loss, Train accuracy) : (680, 13.319447, 2.468473,72.360043)\n",
            "(Epoch, Train Loss,Cost sensitive loss, Train accuracy) : (690, 13.336242, 2.467462,72.304162)\n",
            "(Epoch, Train Loss,Cost sensitive loss, Train accuracy) : (700, 13.386269, 2.467365,72.361737)\n",
            "(Epoch, Train Loss,Cost sensitive loss, Train accuracy) : (710, 13.349813, 2.465480,72.502286)\n",
            "(Epoch, Train Loss,Cost sensitive loss, Train accuracy) : (720, 13.341717, 2.463819,72.571714)\n",
            "(Epoch, Train Loss,Cost sensitive loss, Train accuracy) : (730, 13.398503, 2.462145,72.475192)\n",
            "(Epoch, Train Loss,Cost sensitive loss, Train accuracy) : (740, 13.452468, 2.463429,72.437091)\n",
            "(Epoch, Train Loss,Cost sensitive loss, Train accuracy) : (750, 13.412228, 2.462385,72.600501)\n",
            "(Epoch, Train Loss,Cost sensitive loss, Train accuracy) : (760, 13.456648, 2.459611,72.488739)\n",
            "(Epoch, Train Loss,Cost sensitive loss, Train accuracy) : (770, 13.483494, 2.474326,72.482812)\n",
            "(Epoch, Train Loss,Cost sensitive loss, Train accuracy) : (780, 13.482645, 2.458068,72.558167)\n",
            "(Epoch, Train Loss,Cost sensitive loss, Train accuracy) : (790, 13.529754, 2.457099,72.512446)\n",
            "(Epoch, Train Loss,Cost sensitive loss, Train accuracy) : (800, 13.517410, 2.455891,72.633522)\n",
            "(Epoch, Train Loss,Cost sensitive loss, Train accuracy) : (810, 13.589358, 2.458150,72.559860)\n",
            "(Epoch, Train Loss,Cost sensitive loss, Train accuracy) : (820, 13.675412, 2.458054,72.490432)\n",
            "(Epoch, Train Loss,Cost sensitive loss, Train accuracy) : (830, 13.681536, 2.454839,72.581028)\n",
            "(Epoch, Train Loss,Cost sensitive loss, Train accuracy) : (840, 13.763662, 2.453937,72.548854)\n",
            "(Epoch, Train Loss,Cost sensitive loss, Train accuracy) : (850, 13.756659, 2.453020,72.593728)\n",
            "(Epoch, Train Loss,Cost sensitive loss, Train accuracy) : (860, 13.783392, 2.450764,72.606428)\n",
            "(Epoch, Train Loss,Cost sensitive loss, Train accuracy) : (870, 13.815440, 2.452532,72.630982)\n",
            "(Epoch, Train Loss,Cost sensitive loss, Train accuracy) : (880, 13.838736, 2.449369,72.622515)\n",
            "(Epoch, Train Loss,Cost sensitive loss, Train accuracy) : (890, 13.840255, 2.447648,72.675009)\n",
            "(Epoch, Train Loss,Cost sensitive loss, Train accuracy) : (900, 13.898106, 2.448400,72.570021)\n",
            "(Epoch, Train Loss,Cost sensitive loss, Train accuracy) : (910, 13.899062, 2.446128,72.619975)\n",
            "(Epoch, Train Loss,Cost sensitive loss, Train accuracy) : (920, 13.865417, 2.446150,72.779151)\n",
            "(Epoch, Train Loss,Cost sensitive loss, Train accuracy) : (930, 13.960262, 2.445757,72.608968)\n",
            "(Epoch, Train Loss,Cost sensitive loss, Train accuracy) : (940, 13.980852, 2.445860,72.664002)\n",
            "(Epoch, Train Loss,Cost sensitive loss, Train accuracy) : (950, 13.993900, 2.446049,72.675009)\n",
            "(Epoch, Train Loss,Cost sensitive loss, Train accuracy) : (960, 14.029853, 2.444472,72.617435)\n",
            "(Epoch, Train Loss,Cost sensitive loss, Train accuracy) : (970, 14.082314, 2.441207,72.551394)\n",
            "(Epoch, Train Loss,Cost sensitive loss, Train accuracy) : (980, 14.035000, 2.440771,72.730044)\n",
            "(Epoch, Train Loss,Cost sensitive loss, Train accuracy) : (990, 14.104679, 2.441640,72.639449)\n"
          ]
        }
      ],
      "source": [
        "# Training using the data\n",
        "epochs = 1000\n",
        "\n",
        "# defining all Costs\n",
        "costs= [4.0,0,4.0]\n",
        "\n",
        "\n",
        "shape_data,shape_label=(df.columns.shape[0]-1,1)\n",
        "net,train_loss,train_acc,train_loss_cost=fitModel_costsensitive(train_loader,epochs,shape_data,shape_label,costs,True)\n"
      ]
    },
    {
      "cell_type": "markdown",
      "metadata": {
        "id": "XNyZVLlKNcKK"
      },
      "source": [
        "#Vanilla Logisitc regression"
      ]
    },
    {
      "cell_type": "code",
      "execution_count": null,
      "metadata": {
        "id": "N5_PEThlBJEn",
        "outputId": "f4014ea8-5c49-4c49-a4ea-83f810e4a264"
      },
      "outputs": [
        {
          "name": "stdout",
          "output_type": "stream",
          "text": [
            "(Epoch, Train Loss,Cost sensitive loss, Train accuracy) : (0, 2.018370, 8.215477,30.029295)\n",
            "(Epoch, Train Loss,Cost sensitive loss, Train accuracy) : (10, 0.309270, 47.608995,86.596166)\n",
            "(Epoch, Train Loss,Cost sensitive loss, Train accuracy) : (20, 0.307522, 43.052502,86.601246)\n",
            "(Epoch, Train Loss,Cost sensitive loss, Train accuracy) : (30, 0.307430, 42.079549,86.630880)\n",
            "(Epoch, Train Loss,Cost sensitive loss, Train accuracy) : (40, 0.307407, 41.969433,86.608866)\n",
            "(Epoch, Train Loss,Cost sensitive loss, Train accuracy) : (50, 0.307485, 42.406609,86.620720)\n",
            "(Epoch, Train Loss,Cost sensitive loss, Train accuracy) : (60, 0.307036, 42.310811,86.615640)\n",
            "(Epoch, Train Loss,Cost sensitive loss, Train accuracy) : (70, 0.306805, 42.087397,86.594473)\n",
            "(Epoch, Train Loss,Cost sensitive loss, Train accuracy) : (80, 0.306819, 42.014838,86.614793)\n",
            "(Epoch, Train Loss,Cost sensitive loss, Train accuracy) : (90, 0.306773, 42.120550,86.620720)\n",
            "(Epoch, Train Loss,Cost sensitive loss, Train accuracy) : (100, 0.306735, 41.844819,86.623260)\n",
            "(Epoch, Train Loss,Cost sensitive loss, Train accuracy) : (110, 0.306714, 41.939102,86.625800)\n",
            "(Epoch, Train Loss,Cost sensitive loss, Train accuracy) : (120, 0.306293, 42.452162,86.625800)\n",
            "(Epoch, Train Loss,Cost sensitive loss, Train accuracy) : (130, 0.306462, 41.812229,86.634267)\n",
            "(Epoch, Train Loss,Cost sensitive loss, Train accuracy) : (140, 0.306609, 41.940021,86.630034)\n",
            "(Epoch, Train Loss,Cost sensitive loss, Train accuracy) : (150, 0.306343, 41.817748,86.619027)\n",
            "(Epoch, Train Loss,Cost sensitive loss, Train accuracy) : (160, 0.306489, 42.038040,86.623260)\n",
            "(Epoch, Train Loss,Cost sensitive loss, Train accuracy) : (170, 0.306342, 42.080015,86.620720)\n",
            "(Epoch, Train Loss,Cost sensitive loss, Train accuracy) : (180, 0.306374, 42.058836,86.602093)\n",
            "(Epoch, Train Loss,Cost sensitive loss, Train accuracy) : (190, 0.306351, 42.076014,86.611407)\n",
            "(Epoch, Train Loss,Cost sensitive loss, Train accuracy) : (200, 0.306197, 42.015591,86.622413)\n",
            "(Epoch, Train Loss,Cost sensitive loss, Train accuracy) : (210, 0.306319, 41.970948,86.626647)\n",
            "(Epoch, Train Loss,Cost sensitive loss, Train accuracy) : (220, 0.306054, 42.250860,86.631727)\n",
            "(Epoch, Train Loss,Cost sensitive loss, Train accuracy) : (230, 0.305899, 41.745973,86.630034)\n",
            "(Epoch, Train Loss,Cost sensitive loss, Train accuracy) : (240, 0.306461, 41.906561,86.600400)\n",
            "(Epoch, Train Loss,Cost sensitive loss, Train accuracy) : (250, 0.305877, 41.812307,86.630034)\n",
            "(Epoch, Train Loss,Cost sensitive loss, Train accuracy) : (260, 0.306607, 41.878491,86.629187)\n",
            "(Epoch, Train Loss,Cost sensitive loss, Train accuracy) : (270, 0.306305, 41.962773,86.613947)\n",
            "(Epoch, Train Loss,Cost sensitive loss, Train accuracy) : (280, 0.306556, 43.728522,86.599553)\n",
            "(Epoch, Train Loss,Cost sensitive loss, Train accuracy) : (290, 0.306651, 41.843266,86.616487)\n"
          ]
        }
      ],
      "source": [
        "epochs=300\n",
        "net_v,train_loss_v,train_acc_v,train_loss_cost_v=fitModel_costsensitive(train_loader,epochs,shape_data,shape_label,costs,False)"
      ]
    },
    {
      "cell_type": "markdown",
      "metadata": {
        "id": "TO9Qsi6AOZGJ"
      },
      "source": [
        "#Testing"
      ]
    },
    {
      "cell_type": "code",
      "execution_count": null,
      "metadata": {
        "id": "6MsHwjHfR_yx",
        "outputId": "2eea6886-2b74-4a3d-ba85-d362b0df9b0c"
      },
      "outputs": [
        {
          "name": "stdout",
          "output_type": "stream",
          "text": [
            "Test accuracy 72.927, Precision 0.528, Recall 0.951, F1 0.679\n",
            "None\n",
            "Test accuracy 86.664, Precision 0.809, Recall 0.730, F1 0.767\n",
            "None\n"
          ]
        }
      ],
      "source": [
        "# Testing using the given data\n",
        "\n",
        "net.eval()\n",
        "net_v.eval()\n",
        "\n",
        "#net.load_state_dict(torch.load('./best.pth'))\n",
        "def test_stats(net):\n",
        "\ttotal, true_pos, false_pos, false_neg , correct = 0, 0, 0, 0, 0\n",
        "\tfor i, (x, y, cfn ) in enumerate(test_loader): # evaluate on test data\n",
        "\t\thx = net(x).squeeze(1)\n",
        "\n",
        "\t\t# for accuracy, find correct predictions\n",
        "\t\tpred = (hx-0.5>0).long()\n",
        "\n",
        "\t\t# find true positives, false positives, false negatives\n",
        "\t\ttrue_pos  = true_pos   + ((pred == 1)*(y==1)).sum().item() \n",
        "\t\tfalse_pos = false_pos + ((pred == 1)*(y==0)).sum().item()\n",
        "\t\tfalse_neg = false_neg + ((pred == 0)*(y==1)).sum().item()\n",
        "\n",
        "\t\tcorrect += (pred - y == 0).sum().item()\n",
        "\t\ttotal = total + hx.size(0)\n",
        "\n",
        "\t# Find accuracy, precision, recall, F1 Score\n",
        "\trecall, precision =  true_pos, true_pos\n",
        "\trecall /= (true_pos+false_neg)\n",
        "\tprecision /= (true_pos+false_pos)\n",
        "\tf1 = 2/((1/precision) + (1/recall))\n",
        "\n",
        "\tprint('Test accuracy {:.3f}, Precision {:.3f}, Recall {:.3f}, F1 {:.3f}'.format(100.*correct/total, precision, recall, f1))\n",
        "print(test_stats(net))\n",
        "print(test_stats(net_v))"
      ]
    },
    {
      "cell_type": "code",
      "execution_count": null,
      "metadata": {
        "id": "PA0z8M2TBdxb"
      },
      "outputs": [],
      "source": [
        "x = list(range(0, 300))\n",
        "x0 = list(range(0, 300))"
      ]
    },
    {
      "cell_type": "markdown",
      "metadata": {
        "id": "aD7VOpClOdnh"
      },
      "source": [
        "# Plots"
      ]
    },
    {
      "cell_type": "markdown",
      "metadata": {
        "id": "49ba3FyROiXc"
      },
      "source": [
        "## Cost independent Loss"
      ]
    },
    {
      "cell_type": "code",
      "execution_count": null,
      "metadata": {
        "id": "WAovx9tbBjdP",
        "outputId": "0924c2af-fa45-4d37-b053-02206011e568"
      },
      "outputs": [
        {
          "data": {
            "image/png": "[encoded data removed]",
            "text/plain": [
              "<Figure size 432x288 with 1 Axes>"
            ]
          },
          "metadata": {
            "needs_background": "light"
          },
          "output_type": "display_data"
        }
      ],
      "source": [
        "plt.plot(x0, train_loss[:300], label='Cost Sensitive Logistic Regression')\n",
        "plt.plot(x, train_loss_v[:300], label = 'Vanilla logistic regression')\n",
        "plt.xlabel('No. of iterations')\n",
        "plt.ylabel('Cost independent loss')\n",
        "plt.title('Cost independent logistic loss')\n",
        "plt.legend()\n",
        "plt.show()"
      ]
    },
    {
      "cell_type": "markdown",
      "metadata": {
        "id": "DOOkoXHTOq1H"
      },
      "source": [
        "## Cost dependent Loss"
      ]
    },
    {
      "cell_type": "code",
      "execution_count": null,
      "metadata": {
        "id": "p0XrhNh8BvBA",
        "outputId": "19fb9f04-9cb7-4132-d419-099eae5c64de"
      },
      "outputs": [
        {
          "data": {
            "image/png": "[encoded data removed]",
            "text/plain": [
              "<Figure size 432x288 with 1 Axes>"
            ]
          },
          "metadata": {
            "needs_background": "light"
          },
          "output_type": "display_data"
        }
      ],
      "source": [
        "plt.plot(x0, train_loss_cost[:300], label='Cost Sensitive Logistic Regression')\n",
        "plt.plot(x, train_loss_cost_v[:300], label = 'Vanilla logistic regression')\n",
        "plt.xlabel('No. of iterations')\n",
        "plt.ylabel('Cost dependent loss')\n",
        "plt.title('Cost dependent logistic loss')\n",
        "plt.legend()\n",
        "plt.show()"
      ]
    },
    {
      "cell_type": "markdown",
      "metadata": {
        "id": "siCAjGqwOtZq"
      },
      "source": [
        "## Accuracy"
      ]
    },
    {
      "cell_type": "code",
      "execution_count": null,
      "metadata": {
        "id": "-N8lCk4rMC5n",
        "outputId": "710d9040-8aea-466c-b912-c5c49d928087"
      },
      "outputs": [
        {
          "data": {
            "image/png": "[encoded data removed]",
            "text/plain": [
              "<Figure size 432x288 with 1 Axes>"
            ]
          },
          "metadata": {
            "needs_background": "light"
          },
          "output_type": "display_data"
        }
      ],
      "source": [
        "plt.plot(x0, train_acc[:300], label='Cost Sensitive Logistic Regression')\n",
        "plt.plot(x, train_acc_v[:300], label = 'Vanilla logistic regression')\n",
        "plt.xlabel('No. of iterations')\n",
        "plt.ylabel('Classification Accuracy')\n",
        "plt.title('Classification Accuracy')\n",
        "plt.legend()\n",
        "plt.show()"
      ]
    }
  ],
  "metadata": {
    "accelerator": "GPU",
    "colab": {
      "provenance": []
    },
    "gpuClass": "standard",
    "kernelspec": {
      "display_name": "Python 3",
      "name": "python3"
    },
    "language_info": {
      "codemirror_mode": {
        "name": "ipython",
        "version": 3
      },
      "file_extension": ".py",
      "mimetype": "text/x-python",
      "name": "python",
      "nbconvert_exporter": "python",
      "pygments_lexer": "ipython3",
      "version": "3.8.8"
    }
  },
  "nbformat": 4,
  "nbformat_minor": 0
}
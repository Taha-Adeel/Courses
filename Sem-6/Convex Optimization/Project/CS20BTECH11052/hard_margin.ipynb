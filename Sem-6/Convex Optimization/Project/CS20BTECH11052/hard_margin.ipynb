{
 "cells": [
  {
   "cell_type": "code",
   "execution_count": 17,
   "metadata": {},
   "outputs": [],
   "source": [
    "import cvxpy as cp\n",
    "import matplotlib.pyplot as plt"
   ]
  },
  {
   "cell_type": "code",
   "execution_count": 18,
   "metadata": {},
   "outputs": [],
   "source": [
    "from dataset import *"
   ]
  },
  {
   "cell_type": "code",
   "execution_count": 19,
   "metadata": {},
   "outputs": [
    {
     "data": {
      "image/png": "[encoded data removed]",
      "text/plain": [
       "<Figure size 432x288 with 1 Axes>"
      ]
     },
     "metadata": {
      "needs_background": "light"
     },
     "output_type": "display_data"
    }
   ],
   "source": [
    "# plot the input data points\n",
    "plt.plot(X[0,:], X[1,:], 'r.')\n",
    "plt.plot(Y[0,:], Y[1,:], 'b.')\n",
    "plt.show()"
   ]
  },
  {
   "cell_type": "code",
   "execution_count": 20,
   "metadata": {},
   "outputs": [],
   "source": [
    "# concatenate input matrices and set up the optimization problem\n",
    "lambdas = cp.Variable(shape=(100,))\n",
    "M = np.concatenate((X, -Y), axis=1)\n",
    "D = M.T @ M + np.eye(M.shape[1]) * 1e-5"
   ]
  },
  {
   "cell_type": "code",
   "execution_count": 23,
   "metadata": {},
   "outputs": [
    {
     "name": "stdout",
     "output_type": "stream",
     "text": [
      "Shape of D: (100, 100)\n",
      "Shape of M: (50, 100)\n",
      "Is D positive semi-definite? True\n"
     ]
    }
   ],
   "source": [
    "# print relevant shapes and check that the matrix is positive semi-definite\n",
    "print(\"Shape of D:\", D.shape)\n",
    "print(\"Shape of M:\", M.shape)\n",
    "print(\"Is D positive semi-definite?\", np.all(np.linalg.eigvals(D) >= 0))"
   ]
  },
  {
   "cell_type": "code",
   "execution_count": 25,
   "metadata": {},
   "outputs": [
    {
     "name": "stdout",
     "output_type": "stream",
     "text": [
      "Value of Lagrange multipliers: [1.04981995e-10 1.84623650e-10 3.87322941e-09 1.86817297e-10\n",
      " 1.37329101e-07 2.18902952e-10 1.02587101e-10 1.13608178e-10\n",
      " 1.71491949e-10 1.41717904e-10 1.24916278e-10 1.68403241e-10\n",
      " 2.08067773e-10 7.25539449e-09 1.72759545e-10 2.85727477e-10\n",
      " 1.80146309e-10 1.37671106e-10 5.94213902e-10 1.43935700e-10\n",
      " 2.01420784e-10 5.45904881e-09 1.78318810e-10 1.94011154e-10\n",
      " 3.21406823e-10 2.39294240e-10 2.25500569e-10 6.12124061e-07\n",
      " 3.03553721e-07 1.09152359e-10 1.86777662e-10 2.29975029e-07\n",
      " 2.68998109e-10 2.24904278e-10 1.21133134e-10 2.59884383e-07\n",
      " 3.78318216e-10 4.48642490e-10 4.90064091e-10 1.83106255e-10\n",
      " 3.99086015e-10 1.25642864e-10 2.56546186e-10 7.33530502e-10\n",
      " 9.60859795e-11 1.76796397e-10 2.61818192e-10 1.43231674e-10\n",
      " 1.78299144e-10 1.49729128e-10 2.15839088e-10 1.96178394e-10\n",
      " 1.66283398e-10 1.20955524e-09 3.31636604e-08 1.38611076e-09\n",
      " 3.28560070e-10 6.35779629e-10 1.86120690e-10 2.24364193e-10\n",
      " 3.93148754e-07 2.69344864e-10 8.90998814e-08 3.39725529e-09\n",
      " 1.51590608e-10 1.25823677e-10 3.16720787e-10 1.97959210e-10\n",
      " 1.29843186e-07 1.32520110e-10 3.33034916e-10 2.10551843e-10\n",
      " 1.38723567e-10 4.08272796e-10 1.49303614e-10 4.04377959e-10\n",
      " 1.16717814e-10 3.18701782e-09 1.67410952e-10 1.02005228e-08\n",
      " 1.34795764e-10 1.51912314e-10 2.42131224e-10 1.46740485e-10\n",
      " 2.15839897e-10 2.07459818e-10 2.38968458e-10 4.15213048e-07\n",
      " 5.33417543e-10 3.03525370e-10 6.63513991e-10 4.73688113e-07\n",
      " 2.10248758e-10 5.88903115e-10 2.23202849e-10 1.49779181e-10\n",
      " 5.57412197e-10 1.92211757e-10 5.48889456e-09 1.25935551e-10]\n"
     ]
    }
   ],
   "source": [
    "# Set up the objective function and constraints for the optimization problem\n",
    "objective = cp.Minimize(-cp.sum(lambdas) + 0.5 * cp.quad_form(M @ lambdas, np.eye(M.shape[0])))\n",
    "constraints = [lambdas >= 0, cp.sum(lambdas[0:50] - lambdas[50:100]) == 0]\n",
    "problem = cp.Problem(objective, constraints)\n",
    "\n",
    "# Solve the optimization problem and print the value of the Lagrange multipliers\n",
    "problem.solve(solver=cp.ECOS, verbose=False)\n",
    "print(\"Value of Lagrange multipliers:\", lambdas.value)"
   ]
  },
  {
   "cell_type": "code",
   "execution_count": 26,
   "metadata": {},
   "outputs": [],
   "source": [
    "# calculate the weight vector and bias term from the Lagrange multipliers\n",
    "w = np.sum(np.multiply(lambdas.value,M), axis=1)\n",
    "index = np.argmax(lambdas.value)\n",
    "b = 1 - (w.T @ M[:,index])[0,0]"
   ]
  },
  {
   "cell_type": "code",
   "execution_count": 40,
   "metadata": {},
   "outputs": [
    {
     "data": {
      "image/png": "[encoded data removed]",
      "text/plain": [
       "<Figure size 432x288 with 1 Axes>"
      ]
     },
     "metadata": {
      "needs_background": "light"
     },
     "output_type": "display_data"
    }
   ],
   "source": [
    "# plot the decision boundary and support vectors\n",
    "i1 = 0\n",
    "i2 = 1\n",
    "plt.plot(X[i1,:], X[i2,:], 'r.')\n",
    "plt.plot(Y[i1,:], Y[i2,:], 'b.')\n",
    "x = np.linspace(-170, 70, 50)\n",
    "y = -(w[i1, 0]*x + b)/w[i2, 0]\n",
    "plt.plot(x, y)\n",
    "plt.title('Hard Margin SVM')\n",
    "plt.show()"
   ]
  }
 ],
 "metadata": {
  "interpreter": {
   "hash": "35eeb062e26c9701e83ea6659403bee76c3934b635ee6a9209e92f796c1714bb"
  },
  "kernelspec": {
   "display_name": "Python 3.9.12 ('EE5606_venv')",
   "language": "python",
   "name": "python3"
  },
  "language_info": {
   "codemirror_mode": {
    "name": "ipython",
    "version": 3
   },
   "file_extension": ".py",
   "mimetype": "text/x-python",
   "name": "python",
   "nbconvert_exporter": "python",
   "pygments_lexer": "ipython3",
   "version": "3.9.13"
  },
  "orig_nbformat": 4
 },
 "nbformat": 4,
 "nbformat_minor": 2
}

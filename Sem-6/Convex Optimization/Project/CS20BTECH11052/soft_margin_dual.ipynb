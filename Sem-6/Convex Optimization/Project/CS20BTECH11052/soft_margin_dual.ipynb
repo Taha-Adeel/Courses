{
 "cells": [
  {
   "cell_type": "code",
   "execution_count": 22,
   "metadata": {},
   "outputs": [],
   "source": [
    "# Import the necessary packages\n",
    "import cvxpy as cp\n",
    "import numpy as np\n",
    "import matplotlib.pyplot as plt"
   ]
  },
  {
   "cell_type": "code",
   "execution_count": 23,
   "metadata": {},
   "outputs": [],
   "source": [
    "# Import data\n",
    "from dataset import X, Y"
   ]
  },
  {
   "cell_type": "code",
   "execution_count": 27,
   "metadata": {},
   "outputs": [
    {
     "data": {
      "image/png": "[encoded data removed]",
      "text/plain": [
       "<Figure size 432x288 with 1 Axes>"
      ]
     },
     "metadata": {
      "needs_background": "light"
     },
     "output_type": "display_data"
    }
   ],
   "source": [
    "# Plot our input data which contains non linearly separable data using 2 random dimension \n",
    "plt.plot(X[2,:], X[30,:], 'b.')\n",
    "plt.plot(Y[2,:], Y[30,:], 'r.')\n",
    "plt.show()"
   ]
  },
  {
   "cell_type": "code",
   "execution_count": 28,
   "metadata": {},
   "outputs": [],
   "source": [
    "# Define the variables\n",
    "lambd = cp.Variable(shape=(100,))\n",
    "gamma = cp.Variable(shape=(100,))\n",
    "\n",
    "X2 = X[[2, 30], :]\n",
    "Y2 = Y[[2, 30], :]\n",
    "\n",
    "M = np.concatenate((X[[2, 30], :], -Y[[2, 30], :]), axis=1)\n",
    "D = M.T @ M + np.eye(M.shape[1]) * 1e-5"
   ]
  },
  {
   "cell_type": "code",
   "execution_count": 31,
   "metadata": {},
   "outputs": [
    {
     "data": {
      "text/plain": [
       "-3.2646810943890934"
      ]
     },
     "execution_count": 31,
     "metadata": {},
     "output_type": "execute_result"
    }
   ],
   "source": [
    "# Define the objective function\n",
    "k = 3\n",
    "C = 0.1\n",
    "objective = cp.Minimize( -cp.sum(lambd) + 0.5*cp.quad_form(lambd, D) + (lambd[0]+gamma[0])**(k/(k-1))/(k * C)**(k/(k-1)) * (1-1/k))\n",
    "\n",
    "# Define the constraints\n",
    "constraints = [lambd >= 0, cp.sum(lambd[0:50] - lambd[50:100]) == 0, lambd <= (lambd[0]+gamma[0]), lambd+gamma==C*np.ones(100)]\n",
    "\n",
    "# Solve the problem using cvxpy\n",
    "convexop_problem = cp.Problem(objective, constraints)\n",
    "convexop_problem.solve(solver=cp.ECOS, verbose=False)"
   ]
  },
  {
   "cell_type": "code",
   "execution_count": 7,
   "metadata": {},
   "outputs": [
    {
     "data": {
      "text/plain": [
       "49"
      ]
     },
     "execution_count": 7,
     "metadata": {},
     "output_type": "execute_result"
    }
   ],
   "source": [
    "np.argpartition(lambd.value, 2)[0]"
   ]
  },
  {
   "cell_type": "code",
   "execution_count": 51,
   "metadata": {},
   "outputs": [
    {
     "name": "stdout",
     "output_type": "stream",
     "text": [
      "w =  [[0.02133614]\n",
      " [0.01598417]]\n",
      "b =  -0.5435137478439853\n"
     ]
    }
   ],
   "source": [
    "# Compute the parameters for the hyperplane from the lagrange multipliers\n",
    "w = np.sum(np.multiply(lambd.value,M), axis=1)\n",
    "b = 1 - (w.T@M[:,51])[0,0]\n",
    "\n",
    "print(\"w = \", w)\n",
    "print(\"b = \", b)"
   ]
  },
  {
   "cell_type": "code",
   "execution_count": 50,
   "metadata": {},
   "outputs": [
    {
     "name": "stdout",
     "output_type": "stream",
     "text": [
      "Margin of the SVM at the support vectors:\n",
      "Support vector index 31 : 0.2804542280359359\n",
      "Support vector index 65 : -0.2806775658065841\n",
      "Support vector index 96 : -0.28070335943629376\n"
     ]
    }
   ],
   "source": [
    "# Finding the index of the support vectors\n",
    "index = np.argmax(lambd.value)\n",
    "\n",
    "# Rounding the Lagrange multipliers\n",
    "lamb_round = np.round(lambd.value, 3)\n",
    "\n",
    "# Printing the margin of the SVM at the support vectors\n",
    "print(\"Margin of the SVM at the support vectors:\")\n",
    "for i in range(len(lamb_round)):\n",
    "    if lamb_round[i] != 0.1 and lamb_round[i] > 0:\n",
    "        margin = 1 - (w.T @ M[:, i])[0, 0]\n",
    "        print(\"Support vector index\", i, \":\", margin)\n"
   ]
  },
  {
   "cell_type": "code",
   "execution_count": 48,
   "metadata": {},
   "outputs": [
    {
     "name": "stdout",
     "output_type": "stream",
     "text": [
      "Lagrange multipliers:\n",
      "[0.    0.1   0.1   0.    0.    0.    0.1   0.    0.    0.    0.    0.1\n",
      " 0.    0.    0.    0.    0.    0.1   0.    0.    0.    0.1   0.    0.1\n",
      " 0.1   0.    0.    0.    0.1   0.    0.    0.097 0.    0.1   0.    0.1\n",
      " 0.1   0.    0.    0.1   0.    0.1   0.    0.    0.    0.1   0.    0.\n",
      " 0.1   0.    0.1   0.    0.    0.    0.    0.1   0.1   0.    0.1   0.\n",
      " 0.1   0.    0.    0.    0.1   0.007 0.1   0.    0.    0.1   0.    0.\n",
      " 0.    0.    0.    0.    0.    0.    0.    0.1   0.1   0.1   0.    0.\n",
      " 0.1   0.    0.1   0.    0.    0.    0.    0.    0.    0.    0.1   0.1\n",
      " 0.09  0.1   0.    0.   ]\n"
     ]
    }
   ],
   "source": [
    "# Printing the Lagrange multipliers with rounded values\n",
    "print(\"Lagrange multipliers:\")\n",
    "print(np.round(lambd.value, 3))\n"
   ]
  },
  {
   "cell_type": "code",
   "execution_count": 15,
   "metadata": {},
   "outputs": [
    {
     "data": {
      "text/plain": [
       "(array([ 0,  1,  2,  3,  4,  5,  6,  7,  8,  9, 10, 11, 12, 13, 14, 15, 16,\n",
       "        17, 18, 19, 20, 21, 22, 23, 24, 25, 26, 27, 28, 29, 30, 31, 32, 33,\n",
       "        34, 35, 36, 37, 38, 39, 40, 41, 42, 43, 44, 45, 46, 47, 48, 49, 50,\n",
       "        51, 52, 53, 54, 55, 56, 57, 58, 59, 60, 61, 62, 63, 64, 65, 66, 67,\n",
       "        68, 69, 70, 71, 72, 73, 74, 75, 76, 77, 78, 79, 80, 81, 82, 83, 84,\n",
       "        85, 86, 87, 88, 89, 90, 91, 92, 93, 94, 95, 96, 97, 98, 99]),)"
      ]
     },
     "execution_count": 15,
     "metadata": {},
     "output_type": "execute_result"
    }
   ],
   "source": [
    "# Points which lie far from the margin\n",
    "np.where(lambd.value <= 0.1)"
   ]
  },
  {
   "cell_type": "code",
   "execution_count": 44,
   "metadata": {},
   "outputs": [
    {
     "data": {
      "image/png": "[encoded data removed]",
      "text/plain": [
       "<Figure size 432x288 with 1 Axes>"
      ]
     },
     "metadata": {
      "needs_background": "light"
     },
     "output_type": "display_data"
    }
   ],
   "source": [
    "# Plotting the SVM Decision Boundary\n",
    "i_feature1 = 0\n",
    "i_feature2 = 1\n",
    "\n",
    "# Plotting the data points of class 0 (red dots)\n",
    "plt.plot(X2[i_feature1, :], X2[i_feature2, :], 'b.', label='blue')\n",
    "\n",
    "# Plotting the data points of class 1 (blue dots)\n",
    "plt.plot(Y2[i_feature1, :], Y2[i_feature2, :], 'r.', label='red')\n",
    "\n",
    "# Generating x values for the decision boundary line\n",
    "x = np.linspace(-200, 200, 100)\n",
    "\n",
    "# Computing the corresponding y values for the decision boundary line\n",
    "y = -(w[i_feature1, 0] * x + b) / w[i_feature2, 0]\n",
    "\n",
    "# Plotting the decision boundary line\n",
    "plt.plot(x, y, label='Decision Boundary')\n",
    "\n",
    "# Setting the grid on the plot\n",
    "plt.grid(True)\n",
    "\n",
    "# Setting the x-axis and y-axis tick locations\n",
    "plt.xticks(np.arange(-200, 200, 50))\n",
    "plt.yticks(np.arange(-200, 200, 50))\n",
    "\n",
    "# Adding a caption to the figure\n",
    "plt.title(\"SVM Decision Boundary\")\n",
    "\n",
    "# Displaying the plot\n",
    "plt.show()\n"
   ]
  },
  {
   "cell_type": "code",
   "execution_count": 46,
   "metadata": {},
   "outputs": [
    {
     "name": "stdout",
     "output_type": "stream",
     "text": [
      "SVM classifier values for blue data points:\n",
      "[[ 1.98249106 -0.26897925 -0.38155281  3.31065908  0.48399125  2.02657667\n",
      "  -0.2370037   3.22066998  3.36560215  0.75121093  1.06663422 -0.22794122\n",
      "   1.32836704  4.59614624  0.73577341  2.20953511  2.62079451 -0.484853\n",
      "   0.68653529  1.01169832  0.59670689 -0.91584294  3.3727204  -0.2826949\n",
      "  -0.39447078  2.92643073  1.34454776  2.5685088   0.0528377   5.11836645\n",
      "   1.12601955  0.17603202  2.99452556 -2.11383615  0.51544304 -0.22433264\n",
      "  -0.01135006  4.17531496  0.91516341 -3.488595    3.95660453  0.03360939\n",
      "   1.60876001  2.71874562  2.73527934 -2.08501733  2.28989646  0.97755619\n",
      "  -0.88239243  5.87276459]]\n",
      "SVM classifier values for red data points\n",
      "[[-0.93378568 -2.0870275  -3.32451907 -2.63531315 -4.39449692 -0.06343493\n",
      "  -0.55577306 -4.24956475 -1.30272149 -4.14112778 -0.33351282 -4.46241671\n",
      "  -2.4779767  -3.34315343 -1.04222692 -1.82419131 -1.38577027 -2.20118513\n",
      "  -3.97416786 -0.38973429 -2.75392741 -2.89990417 -2.72190458 -3.20041795\n",
      "  -2.05445799 -2.79838462 -3.70459938 -2.48419533 -3.85663118  0.10971782\n",
      "  -1.64693493 -0.22309865 -2.25928489 -3.15878597 -0.44201999 -2.83822163\n",
      "  -0.86905555 -2.80066748 -4.72502336 -3.00888778 -2.68955026 -2.00146632\n",
      "  -3.91406511 -1.92536506  1.20410949 -0.77073284 -1.82421711 -1.34092711\n",
      "  -4.08475706 -4.2846065 ]]\n"
     ]
    }
   ],
   "source": [
    "# Printing SVM classifier values for data points of class 0\n",
    "svm_values_class0 = w[i_feature1, 0] * X2[i_feature1, :] + w[i_feature2, 0] * X2[i_feature2, :] + b\n",
    "print(\"SVM classifier values for blue data points:\")\n",
    "print(svm_values_class0)\n",
    "\n",
    "# Printing SVM classifier values for data points of class 1\n",
    "svm_values_class1 = w[i_feature1, 0] * Y2[i_feature1, :] + w[i_feature2, 0] * Y2[i_feature2, :] + b\n",
    "print(\"SVM classifier values for red data points\")\n",
    "print(svm_values_class1)\n"
   ]
  },
  {
   "cell_type": "code",
   "execution_count": 47,
   "metadata": {},
   "outputs": [
    {
     "name": "stdout",
     "output_type": "stream",
     "text": [
      "Margin size in the SVM classifier: 37.51020359905798\n"
     ]
    }
   ],
   "source": [
    "margin_size = 1 / np.linalg.norm(w)\n",
    "print(\"Margin size in the SVM classifier:\", margin_size)\n"
   ]
  }
 ],
 "metadata": {
  "interpreter": {
   "hash": "35eeb062e26c9701e83ea6659403bee76c3934b635ee6a9209e92f796c1714bb"
  },
  "kernelspec": {
   "display_name": "Python 3.9.12 ('EE5606_venv')",
   "language": "python",
   "name": "python3"
  },
  "language_info": {
   "codemirror_mode": {
    "name": "ipython",
    "version": 3
   },
   "file_extension": ".py",
   "mimetype": "text/x-python",
   "name": "python",
   "nbconvert_exporter": "python",
   "pygments_lexer": "ipython3",
   "version": "3.9.13"
  },
  "orig_nbformat": 4
 },
 "nbformat": 4,
 "nbformat_minor": 2
}
